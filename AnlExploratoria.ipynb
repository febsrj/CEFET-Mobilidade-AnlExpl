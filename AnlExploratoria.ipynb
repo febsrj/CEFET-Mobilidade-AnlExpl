{
 "cells": [
  {
   "cell_type": "code",
   "execution_count": 27,
   "metadata": {},
   "outputs": [
    {
     "data": {
      "text/html": [
       "'Pacote dplyr Já Instalado'"
      ],
      "text/latex": [
       "'Pacote dplyr Já Instalado'"
      ],
      "text/markdown": [
       "'Pacote dplyr Já Instalado'"
      ],
      "text/plain": [
       "[1] \"Pacote dplyr Já Instalado\""
      ]
     },
     "metadata": {},
     "output_type": "display_data"
    },
    {
     "data": {
      "text/html": [
       "'Pacote plyr Já Instalado'"
      ],
      "text/latex": [
       "'Pacote plyr Já Instalado'"
      ],
      "text/markdown": [
       "'Pacote plyr Já Instalado'"
      ],
      "text/plain": [
       "[1] \"Pacote plyr Já Instalado\""
      ]
     },
     "metadata": {},
     "output_type": "display_data"
    },
    {
     "data": {
      "text/html": [
       "'Pacote reshape2 Já Instalado'"
      ],
      "text/latex": [
       "'Pacote reshape2 Já Instalado'"
      ],
      "text/markdown": [
       "'Pacote reshape2 Já Instalado'"
      ],
      "text/plain": [
       "[1] \"Pacote reshape2 Já Instalado\""
      ]
     },
     "metadata": {},
     "output_type": "display_data"
    },
    {
     "data": {
      "text/html": [
       "'Pacote sqldf Já Instalado'"
      ],
      "text/latex": [
       "'Pacote sqldf Já Instalado'"
      ],
      "text/markdown": [
       "'Pacote sqldf Já Instalado'"
      ],
      "text/plain": [
       "[1] \"Pacote sqldf Já Instalado\""
      ]
     },
     "metadata": {},
     "output_type": "display_data"
    },
    {
     "data": {
      "text/html": [
       "'Pacote ggplot2 Já Instalado'"
      ],
      "text/latex": [
       "'Pacote ggplot2 Já Instalado'"
      ],
      "text/markdown": [
       "'Pacote ggplot2 Já Instalado'"
      ],
      "text/plain": [
       "[1] \"Pacote ggplot2 Já Instalado\""
      ]
     },
     "metadata": {},
     "output_type": "display_data"
    },
    {
     "data": {
      "text/html": [
       "'Pacote proto Já Instalado'"
      ],
      "text/latex": [
       "'Pacote proto Já Instalado'"
      ],
      "text/markdown": [
       "'Pacote proto Já Instalado'"
      ],
      "text/plain": [
       "[1] \"Pacote proto Já Instalado\""
      ]
     },
     "metadata": {},
     "output_type": "display_data"
    },
    {
     "data": {
      "text/html": [
       "'Pacote RSQLite Já Instalado'"
      ],
      "text/latex": [
       "'Pacote RSQLite Já Instalado'"
      ],
      "text/markdown": [
       "'Pacote RSQLite Já Instalado'"
      ],
      "text/plain": [
       "[1] \"Pacote RSQLite Já Instalado\""
      ]
     },
     "metadata": {},
     "output_type": "display_data"
    },
    {
     "data": {
      "text/html": [
       "'Pacote xtable Já Instalado'"
      ],
      "text/latex": [
       "'Pacote xtable Já Instalado'"
      ],
      "text/markdown": [
       "'Pacote xtable Já Instalado'"
      ],
      "text/plain": [
       "[1] \"Pacote xtable Já Instalado\""
      ]
     },
     "metadata": {},
     "output_type": "display_data"
    },
    {
     "name": "stderr",
     "output_type": "stream",
     "text": [
      "------------------------------------------------------------------------------\n",
      "You have loaded plyr after dplyr - this is likely to cause problems.\n",
      "If you need functions from both plyr and dplyr, please load plyr first, then dplyr:\n",
      "library(plyr); library(dplyr)\n",
      "------------------------------------------------------------------------------\n",
      "\n",
      "Attaching package: 'plyr'\n",
      "\n",
      "The following objects are masked from 'package:dplyr':\n",
      "\n",
      "    arrange, count, desc, failwith, id, mutate, rename, summarise,\n",
      "    summarize\n",
      "\n"
     ]
    }
   ],
   "source": [
    "#Projeto Final de Mineração De Dados\n",
    "# Este trabalho está associado ao projeto de mobilidade\n",
    "#Início da Exploração de Dados\n",
    "\n",
    "############################################################\n",
    "\n",
    "### Intalando Pacotes\n",
    "#Função instalar pacotes\n",
    "InstalaPacotes = function(pacote){\n",
    "  if (pacote %in% rownames(installed.packages())){\n",
    "    mensagem <- paste(\"Pacote\", pacote, \"Já Instalado\")\n",
    "  }else{\n",
    "    mensagem <- paste(\"Instalando Pacote\", pacote)\n",
    "    install.packages(pacote)  \n",
    "  }\n",
    "  return(mensagem)  \n",
    "}\n",
    "\n",
    "\n",
    "#Instala Pacotes Necessários\n",
    "InstalaPacotes(\"dplyr\") \n",
    "InstalaPacotes(\"plyr\")\n",
    "InstalaPacotes(\"reshape2\")\n",
    "#InstalaPacotes(\"readr\")\n",
    "#InstalaPacotes(\"stringr\")\n",
    "#InstalaPacotes(\"stringi\")\n",
    "InstalaPacotes(\"sqldf\")\n",
    "#InstalaPacotes(\"microbenchmark\")\n",
    "#InstalaPacotes(\"mgcv\")\n",
    "InstalaPacotes(\"ggplot2\")\n",
    "InstalaPacotes(\"proto\") #Adicionado para executar sqldf no Jupyter\n",
    "InstalaPacotes(\"RSQLite\")\n",
    "#InstalaPacotes(\"gsubfn\") #Adicionado para executar sqldf no Jupyter\n",
    "#InstalaPacotes(\"chron\") #Adicionado para executar sqldf no Jupyter\n",
    "InstalaPacotes(\"xtable\") #Exportar para o Latex\n",
    "\n",
    "#Carrega Bibliotecas:\n",
    "library('dplyr')\n",
    "library(\"plyr\")\n",
    "library('reshape2')\n",
    "#library('readr')\n",
    "#library('stringr')\n",
    "#library('stringi')\n",
    "library('sqldf')\n",
    "#library('microbenchmark')\n",
    "#library('mgcv')\n",
    "library('ggplot2')\n",
    "library('proto')\n",
    "library('RSQLite')\n",
    "library('xtable')"
   ]
  },
  {
   "cell_type": "markdown",
   "metadata": {},
   "source": [
    "Importando Arquivo do github"
   ]
  },
  {
   "cell_type": "code",
   "execution_count": 43,
   "metadata": {},
   "outputs": [],
   "source": [
    "### As bases agregadas estão em:\n",
    "#\"https://github.com/febsrj/CEFET-Mobilidade-AnlExpl/tree/master\"\n",
    "#knitr::knit(text ='```{r}\n",
    "#load(url(\"https://github.com/febsrj/CEFET-Mobilidade-AnlExpl/tree/master?raw=TRUE\"))\n",
    "#```')\n",
    "\n",
    "#files <- list.files(list.files(path=\"https://github.com/febsrj/CEFET-Mobilidade-AnlExpl/tree/master\" pattern=\"*.RData\", full.names=TRUE, recursive=FALSE)) for(i in files){ print(i) df <- load(i) assign(gsub(\"\\\\..*\",\"\", i), df ) #extracts the string before period rm(df) }\n",
    "\n",
    "Aggdata <- NULL\n",
    "media <- NULL\n",
    "mediaquad <- NULL\n",
    "for(i in 1:126){\n",
    "        knitr::knit(text ='{r}\n",
    "      Aggdatai<-get(load(url(\"https://github.com/febsrj/CEFET-Mobilidade-AnlExpl/tree/master\" pattern=\"*.RData\", full.names=TRUE, recursive=FALSE\")))\n",
    "      mediai<-aggregate(velocidade ~ dt,Aggdatai,mean)\n",
    "      mediaquadi<-aggregate(velocidade ~ dt+estacao,Aggdatai,mean)\n",
    "      cat(i,\"\\n\")\n",
    "      ')\n",
    "      }\n",
    "\n",
    "\n",
    "#https://github.com/febsrj/CEFET-Mobilidade-AnlExpl/tree/master\n",
    "#input <- dir(pattern='.RData')\n",
    "#L <- length(input)\n"
   ]
  },
  {
   "cell_type": "code",
   "execution_count": 44,
   "metadata": {},
   "outputs": [],
   "source": [
    "df <- ldply(Aggdata, data.frame) \n",
    "dfmediadia<-ldply(media, data.frame) \n",
    "dfmediaquad<-ldply(mediaquad, data.frame) \n"
   ]
  },
  {
   "cell_type": "code",
   "execution_count": 46,
   "metadata": {},
   "outputs": [],
   "source": [
    "####Limpando as linhas duplicadas q contém zero\n",
    "\n",
    "#verificando se há linha duplicada\n",
    "#sqldf(\"select dt, count(dt) as conta from dfmediadia group by dt having conta > 1\")\n",
    "\n",
    "#deletando as linhas duplicadas\n",
    "linhasdelete<-c(21,120)\n",
    "dfmediadianew<-dfmediadia[-linhasdelete,]\n"
   ]
  },
  {
   "cell_type": "code",
   "execution_count": 47,
   "metadata": {},
   "outputs": [
    {
     "data": {
      "text/html": [],
      "text/latex": [],
      "text/markdown": [],
      "text/plain": [
       "<0 x 0 matrix>"
      ]
     },
     "metadata": {},
     "output_type": "display_data"
    },
    {
     "data": {
      "text/html": [],
      "text/latex": [],
      "text/markdown": [],
      "text/plain": [
       "<0 x 0 matrix>"
      ]
     },
     "metadata": {},
     "output_type": "display_data"
    },
    {
     "ename": "ERROR",
     "evalue": "Error: value.var (velocidade) not found in input\n",
     "output_type": "error",
     "traceback": [
      "Error: value.var (velocidade) not found in input\nTraceback:\n",
      "1. dcast(dfmediaquad, dt ~ estacao, value.var = \"velocidade\", mean)",
      "2. cast(data, formula, fun.aggregate, ..., subset = subset, fill = fill, \n .     drop = drop, value.var = value.var)",
      "3. stop(\"value.var (\", value.var, \") not found in input\", call. = FALSE)"
     ]
    }
   ],
   "source": [
    "# Ordenação da base de dados - ordem crescente (default)\n",
    "#dfmediadia_orddt <- dfmediadianew[order(dfmediadia$dt),]\n",
    "#plot(dfmediadianew, type=\"o\", col=\"darkblue\")\n",
    "\n",
    "head(dfmediadianew,10)\n",
    "tail(dfmediadianew,10)\n",
    "\n",
    "#Fazendo uma série temporal para cada quadrante\n",
    "pivotquad<-dcast(dfmediaquad,dt~estacao,value.var=\"velocidade\",mean)\n",
    "\n"
   ]
  },
  {
   "cell_type": "code",
   "execution_count": 48,
   "metadata": {},
   "outputs": [
    {
     "ename": "ERROR",
     "evalue": "Error in `[.data.frame`(dfmediaquad, , 2): undefined columns selected\n",
     "output_type": "error",
     "traceback": [
      "Error in `[.data.frame`(dfmediaquad, , 2): undefined columns selected\nTraceback:\n",
      "1. dfmediaquad[, 2]",
      "2. `[.data.frame`(dfmediaquad, , 2)",
      "3. stop(\"undefined columns selected\")"
     ]
    }
   ],
   "source": [
    "# quantos quadrantes existem?\n",
    "quad<-dfmediaquad[,2]\n",
    "conta<-unique(quad)\n",
    "length(conta)\n"
   ]
  },
  {
   "cell_type": "code",
   "execution_count": 49,
   "metadata": {},
   "outputs": [
    {
     "ename": "ERROR",
     "evalue": "Error in (function (classes, fdef, mtable) : unable to find an inherited method for function 'dbQuoteIdentifier' for signature '\"SQLiteConnection\", \"NULL\"'\n",
     "output_type": "error",
     "traceback": [
      "Error in (function (classes, fdef, mtable) : unable to find an inherited method for function 'dbQuoteIdentifier' for signature '\"SQLiteConnection\", \"NULL\"'\nTraceback:\n",
      "1. sqldf(\"select \\n               estacao,\\n               avg(velocidade) as media,\\n               min(velocidade) as minimo,\\n               max(velocidade) as maximo,\\n               stdev(velocidade) as desvpad\\n               from dfmediaquad \\n               group by estacao\\n               \")",
      "2. dbWriteTable(connection, nam, DF, row.names = row.names)",
      "3. dbWriteTable(connection, nam, DF, row.names = row.names)",
      "4. .local(conn, name, value, ...)",
      "5. sqlCreateTable(conn, name, fields, row.names = FALSE, temporary = temporary)",
      "6. sqlCreateTable(conn, name, fields, row.names = FALSE, temporary = temporary)",
      "7. dbQuoteIdentifier(con, names(fields))",
      "8. (function (classes, fdef, mtable) \n . {\n .     methods <- .findInheritedMethods(classes, fdef, mtable)\n .     if (length(methods) == 1L) \n .         return(methods[[1L]])\n .     else if (length(methods) == 0L) {\n .         cnames <- paste0(\"\\\"\", vapply(classes, as.character, \n .             \"\"), \"\\\"\", collapse = \", \")\n .         stop(gettextf(\"unable to find an inherited method for function %s for signature %s\", \n .             sQuote(fdef@generic), sQuote(cnames)), domain = NA)\n .     }\n .     else stop(\"Internal error in finding inherited methods; didn't return a unique method\", \n .         domain = NA)\n . })(list(structure(\"SQLiteConnection\", package = \"RSQLite\"), \"NULL\"), \n .     structure(function (conn, x, ...) \n .     standardGeneric(\"dbQuoteIdentifier\"), generic = structure(\"dbQuoteIdentifier\", package = \"DBI\"), package = \"DBI\", group = list(), valueClass = character(0), signature = c(\"conn\", \n .     \"x\"), default = `\\001NULL\\001`, skeleton = (function (conn, \n .         x, ...) \n .     stop(\"invalid call in method dispatch to 'dbQuoteIdentifier' (no default method)\", \n .         domain = NA))(conn, x, ...), class = structure(\"standardGeneric\", package = \"methods\")), \n .     <environment>)",
      "9. stop(gettextf(\"unable to find an inherited method for function %s for signature %s\", \n .     sQuote(fdef@generic), sQuote(cnames)), domain = NA)"
     ]
    }
   ],
   "source": [
    "#Fazendo as estatísticas\n",
    "sumario<-sqldf(\"select \n",
    "               estacao,\n",
    "               avg(velocidade) as media,\n",
    "               min(velocidade) as minimo,\n",
    "               max(velocidade) as maximo,\n",
    "               stdev(velocidade) as desvpad\n",
    "               from dfmediaquad \n",
    "               group by estacao\n",
    "               \")\n"
   ]
  },
  {
   "cell_type": "code",
   "execution_count": 50,
   "metadata": {},
   "outputs": [
    {
     "ename": "ERROR",
     "evalue": "Error in eval(expr, envir, enclos): objeto 'sumario' não encontrado\n",
     "output_type": "error",
     "traceback": [
      "Error in eval(expr, envir, enclos): objeto 'sumario' não encontrado\nTraceback:\n"
     ]
    }
   ],
   "source": [
    "# Ordenação da base de dados - ordem crescente (default)\n",
    "sumario_ord <- sumario[order(sumario$media),]\n",
    "\n",
    "head(sumario_ord, 10)\n",
    "\n",
    "#Fazendo a correlação dos dados\n",
    "m.corr<-cor(pivotquad[,2:1811],use =\"pairwise.complete.obs\")\n",
    "\n",
    "#fazendo unpivot table\n",
    "melt_m.corr<-melt(m.corr)\n",
    "\n",
    "# Ordenação da base de dados - ordem crescente (default)\n",
    "melt_m.corr <- melt_m.corr[order(melt_m.corr$value,decreasing=TRUE),]\n",
    "maior_corr<-melt_m.corr[melt_m.corr$value<1,c(\"Var1\",\"Var2\",\"value\")]\n"
   ]
  },
  {
   "cell_type": "code",
   "execution_count": null,
   "metadata": {
    "collapsed": true
   },
   "outputs": [],
   "source": []
  },
  {
   "cell_type": "code",
   "execution_count": null,
   "metadata": {
    "collapsed": true
   },
   "outputs": [],
   "source": []
  }
 ],
 "metadata": {
  "kernelspec": {
   "display_name": "R",
   "language": "R",
   "name": "ir"
  },
  "language_info": {
   "codemirror_mode": "r",
   "file_extension": ".r",
   "mimetype": "text/x-r-source",
   "name": "R",
   "pygments_lexer": "r",
   "version": "3.4.1"
  }
 },
 "nbformat": 4,
 "nbformat_minor": 2
}
